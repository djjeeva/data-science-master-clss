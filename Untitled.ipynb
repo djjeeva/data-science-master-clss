{
 "cells": [
  {
   "cell_type": "code",
   "execution_count": 2,
   "id": "a1984a5e-fbf6-4d42-ab44-2e9d34d6cbcf",
   "metadata": {},
   "outputs": [
    {
     "name": "stdout",
     "output_type": "stream",
     "text": [
      "you are eligble\n"
     ]
    }
   ],
   "source": [
    "age =19\n",
    "if age>18:\n",
    "    print(\"you are eligble\")\n",
    "    "
   ]
  },
  {
   "cell_type": "code",
   "execution_count": 10,
   "id": "4cd5802f-5daa-4b8b-a52b-00453d7e1068",
   "metadata": {},
   "outputs": [
    {
     "name": "stdin",
     "output_type": "stream",
     "text": [
      "enter your age : 12\n"
     ]
    },
    {
     "name": "stdout",
     "output_type": "stream",
     "text": [
      "better luck nxt time\n"
     ]
    }
   ],
   "source": [
    "age =int(input(\"enter your age :\"))\n",
    "\n",
    "if age >12:\n",
    "    print(\"you are eligble\")\n",
    "    \n",
    "else:\n",
    "    print(\"better luck nxt time\")"
   ]
  },
  {
   "cell_type": "code",
   "execution_count": 11,
   "id": "72213782-b875-4e45-ab7d-5a409bf3beef",
   "metadata": {},
   "outputs": [],
   "source": [
    "##task\n",
    "#take input of age\n",
    "#age>=18 and <=42\n",
    "#your young blood \n",
    "\n"
   ]
  },
  {
   "cell_type": "code",
   "execution_count": 20,
   "id": "622128bc-c63d-468e-8a0a-687d2042e69c",
   "metadata": {},
   "outputs": [
    {
     "name": "stdin",
     "output_type": "stream",
     "text": [
      "enter your age : 78\n"
     ]
    },
    {
     "name": "stdout",
     "output_type": "stream",
     "text": [
      "you  need to rest in your home\n"
     ]
    }
   ],
   "source": [
    "age = int(input(\"enter your age :\"))\n",
    "\n",
    "if age>=18 and age<=45:\n",
    "          print(\"your are youngh blood\")\n",
    "        \n",
    "elif age >=50 and age<=70:\n",
    "    print(\"you are in your old age\")\n",
    "\n",
    "else :\n",
    "    print(\"you  need to rest in your home\")"
   ]
  },
  {
   "cell_type": "code",
   "execution_count": 45,
   "id": "9bdb1144-d27d-47dd-b4a7-bc593a5f70ad",
   "metadata": {},
   "outputs": [
    {
     "name": "stdin",
     "output_type": "stream",
     "text": [
      "enter the price 4500\n"
     ]
    },
    {
     "name": "stdout",
     "output_type": "stream",
     "text": [
      "you get a goa trip\n",
      "the the price of the product is:3600.0\n"
     ]
    }
   ],
   "source": [
    "product = int(input(\"enter the price\"))\n",
    "                    \n",
    "if product >3000:\n",
    "    if product>=4000:\n",
    "        print(\"you get a goa trip\")\n",
    "    print(f\"the the price of the product is:{product*.8}\")\n",
    "        \n",
    "elif product>=2000 and product<=3000:\n",
    "    if product==2999:\n",
    "        print(\"congz you get addtional gift\")\n",
    "    print(f\"the price of the product is:{product*.7}\")\n",
    "\n",
    "elif product>=1000 and product<=2000:\n",
    "    print(f\"the price of the product is:{product*.6}\")\n",
    "    \n",
    "else:\n",
    "    print(\"let have food\")\n",
    "                 "
   ]
  },
  {
   "cell_type": "code",
   "execution_count": null,
   "id": "85fa0ef9-d1bd-4a7d-a6bb-d68ed8bf3d04",
   "metadata": {},
   "outputs": [],
   "source": []
  }
 ],
 "metadata": {
  "kernelspec": {
   "display_name": "Python 3 (ipykernel)",
   "language": "python",
   "name": "python3"
  },
  "language_info": {
   "codemirror_mode": {
    "name": "ipython",
    "version": 3
   },
   "file_extension": ".py",
   "mimetype": "text/x-python",
   "name": "python",
   "nbconvert_exporter": "python",
   "pygments_lexer": "ipython3",
   "version": "3.10.8"
  }
 },
 "nbformat": 4,
 "nbformat_minor": 5
}
